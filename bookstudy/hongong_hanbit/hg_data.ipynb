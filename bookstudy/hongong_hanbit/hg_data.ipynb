{
 "cells": [
  {
   "cell_type": "code",
   "execution_count": 3,
   "metadata": {},
   "outputs": [
    {
     "name": "stderr",
     "output_type": "stream",
     "text": [
      "C:\\Users\\user\\AppData\\Local\\Temp\\ipykernel_11608\\31217215.py:6: MatplotlibDeprecationWarning: The get_fontconfig_fonts function was deprecated in Matplotlib 3.5 and will be removed two minor releases later.\n",
      "  fm.get_fontconfig_fonts()\n"
     ]
    }
   ],
   "source": [
    "\n",
    "import matplotlib \n",
    "import matplotlib.font_manager as fm\n",
    "import matplotlib.pyplot as plt\n",
    "import gdown\n",
    "\n",
    "fm.get_fontconfig_fonts()\n",
    "font_location = 'C:/Windows/Fonts/malgunsl.ttf' # For Windows\n",
    "font_name = fm.FontProperties(fname=font_location).get_name()\n",
    "matplotlib.rc('font', family=font_name)\n",
    "\n",
    "plt.rcParams['figure.dpi']=100"
   ]
  },
  {
   "cell_type": "code",
   "execution_count": 4,
   "metadata": {},
   "outputs": [
    {
     "name": "stderr",
     "output_type": "stream",
     "text": [
      "Downloading...\n",
      "From: https://bit.ly/3pK7iuu\n",
      "To: c:\\Users\\user\\Documents\\visualization\\EDA_study\\bookstudy\\hongong_hanbit\\ns_book7.csv\n",
      "100%|██████████| 53.8M/53.8M [00:03<00:00, 17.3MB/s]\n",
      "C:\\Users\\user\\AppData\\Local\\Temp\\ipykernel_11608\\753169290.py:4: DtypeWarning: Columns (5,9) have mixed types. Specify dtype option on import or set low_memory=False.\n",
      "  df=pd.read_csv(data,encoding='utf-8')\n"
     ]
    }
   ],
   "source": [
    "data=gdown.download('https://bit.ly/3pK7iuu','ns_book7.csv',quiet=False)\n",
    "\n",
    "import pandas as pd\n",
    "df=pd.read_csv(data,encoding='utf-8')"
   ]
  },
  {
   "cell_type": "code",
   "execution_count": 8,
   "metadata": {},
   "outputs": [
    {
     "data": {
      "text/html": [
       "<div>\n",
       "<style scoped>\n",
       "    .dataframe tbody tr th:only-of-type {\n",
       "        vertical-align: middle;\n",
       "    }\n",
       "\n",
       "    .dataframe tbody tr th {\n",
       "        vertical-align: top;\n",
       "    }\n",
       "\n",
       "    .dataframe thead th {\n",
       "        text-align: right;\n",
       "    }\n",
       "</style>\n",
       "<table border=\"1\" class=\"dataframe\">\n",
       "  <thead>\n",
       "    <tr style=\"text-align: right;\">\n",
       "      <th></th>\n",
       "      <th>번호</th>\n",
       "      <th>도서명</th>\n",
       "      <th>저자</th>\n",
       "      <th>출판사</th>\n",
       "      <th>발행년도</th>\n",
       "      <th>ISBN</th>\n",
       "      <th>세트 ISBN</th>\n",
       "      <th>부가기호</th>\n",
       "      <th>권</th>\n",
       "      <th>주제분류번호</th>\n",
       "      <th>도서권수</th>\n",
       "      <th>대출건수</th>\n",
       "      <th>등록일자</th>\n",
       "    </tr>\n",
       "  </thead>\n",
       "  <tbody>\n",
       "    <tr>\n",
       "      <th>376768</th>\n",
       "      <td>401679</td>\n",
       "      <td>뉴 웨이브</td>\n",
       "      <td>제임스 모나코 지음</td>\n",
       "      <td>한나래</td>\n",
       "      <td>1996</td>\n",
       "      <td>9788985367448</td>\n",
       "      <td>9788985367424</td>\n",
       "      <td>NaN</td>\n",
       "      <td>2</td>\n",
       "      <td>688.04</td>\n",
       "      <td>1</td>\n",
       "      <td>0</td>\n",
       "      <td>1970-01-01</td>\n",
       "    </tr>\n",
       "    <tr>\n",
       "      <th>376769</th>\n",
       "      <td>401681</td>\n",
       "      <td>독일 문학과 세계 문학</td>\n",
       "      <td>吳漢鎭 編著</td>\n",
       "      <td>벽호</td>\n",
       "      <td>1995</td>\n",
       "      <td>9788947700368</td>\n",
       "      <td>9788947700405</td>\n",
       "      <td>NaN</td>\n",
       "      <td>3</td>\n",
       "      <td>809.05</td>\n",
       "      <td>2</td>\n",
       "      <td>0</td>\n",
       "      <td>1970-01-01</td>\n",
       "    </tr>\n",
       "  </tbody>\n",
       "</table>\n",
       "</div>"
      ],
      "text/plain": [
       "            번호           도서명          저자  출판사  발행년도           ISBN  \\\n",
       "376768  401679         뉴 웨이브  제임스 모나코 지음  한나래  1996  9788985367448   \n",
       "376769  401681  독일 문학과 세계 문학      吳漢鎭 編著   벽호  1995  9788947700368   \n",
       "\n",
       "              세트 ISBN 부가기호  권  주제분류번호  도서권수  대출건수        등록일자  \n",
       "376768  9788985367424  NaN  2  688.04     1     0  1970-01-01  \n",
       "376769  9788947700405  NaN  3  809.05     2     0  1970-01-01  "
      ]
     },
     "execution_count": 8,
     "metadata": {},
     "output_type": "execute_result"
    }
   ],
   "source": [
    "df.tail(2)"
   ]
  },
  {
   "cell_type": "code",
   "execution_count": 13,
   "metadata": {},
   "outputs": [],
   "source": [
    "df=df.loc[:,['출판사','발행년도','대출건수']]"
   ]
  },
  {
   "cell_type": "code",
   "execution_count": 14,
   "metadata": {},
   "outputs": [
    {
     "data": {
      "text/html": [
       "<div>\n",
       "<style scoped>\n",
       "    .dataframe tbody tr th:only-of-type {\n",
       "        vertical-align: middle;\n",
       "    }\n",
       "\n",
       "    .dataframe tbody tr th {\n",
       "        vertical-align: top;\n",
       "    }\n",
       "\n",
       "    .dataframe thead th {\n",
       "        text-align: right;\n",
       "    }\n",
       "</style>\n",
       "<table border=\"1\" class=\"dataframe\">\n",
       "  <thead>\n",
       "    <tr style=\"text-align: right;\">\n",
       "      <th></th>\n",
       "      <th>출판사</th>\n",
       "      <th>발행년도</th>\n",
       "      <th>대출건수</th>\n",
       "    </tr>\n",
       "  </thead>\n",
       "  <tbody>\n",
       "    <tr>\n",
       "      <th>0</th>\n",
       "      <td>민음사</td>\n",
       "      <td>2021</td>\n",
       "      <td>0</td>\n",
       "    </tr>\n",
       "    <tr>\n",
       "      <th>1</th>\n",
       "      <td>갈매나무</td>\n",
       "      <td>2021</td>\n",
       "      <td>0</td>\n",
       "    </tr>\n",
       "  </tbody>\n",
       "</table>\n",
       "</div>"
      ],
      "text/plain": [
       "    출판사  발행년도  대출건수\n",
       "0   민음사  2021     0\n",
       "1  갈매나무  2021     0"
      ]
     },
     "execution_count": 14,
     "metadata": {},
     "output_type": "execute_result"
    }
   ],
   "source": [
    "df.head(2)"
   ]
  },
  {
   "cell_type": "code",
   "execution_count": 30,
   "metadata": {},
   "outputs": [
    {
     "data": {
      "text/plain": [
       "Index(['문학동네', '민음사', '김영사', '웅진씽크빅', '시공사', '창비', '문학과지성사', '위즈덤하우스', '학지사',\n",
       "       '한울', '한국학술정보', '열린책들', '살림출판사', '한길사', '博英社', '커뮤니케이션북스', '지식을만드는지식',\n",
       "       '자음과모음', '비룡소', '랜덤하우스코리아', '넥서스', '황금가지', '길벗', '시그마프레스', '현암사',\n",
       "       '다산북스', '집문당', '책세상', '한국문화사', '북이십일 21세기북스'],\n",
       "      dtype='object')"
      ]
     },
     "execution_count": 30,
     "metadata": {},
     "output_type": "execute_result"
    }
   ],
   "source": [
    "# 사용할 데이터만 분리 : 출판사별 value_counts 활용 상위 까지\n",
    "df['출판사'].value_counts()[:30].index"
   ]
  },
  {
   "cell_type": "code",
   "execution_count": 32,
   "metadata": {},
   "outputs": [
    {
     "data": {
      "text/plain": [
       "51886"
      ]
     },
     "execution_count": 32,
     "metadata": {},
     "output_type": "execute_result"
    }
   ],
   "source": [
    "df_30=df[df['출판사'].isin(df['출판사'].value_counts()[:30].index)]\n",
    "len(df_30)"
   ]
  },
  {
   "cell_type": "code",
   "execution_count": 40,
   "metadata": {},
   "outputs": [
    {
     "data": {
      "text/plain": [
       "26861"
      ]
     },
     "execution_count": 40,
     "metadata": {},
     "output_type": "execute_result"
    }
   ],
   "source": [
    "# 출판사별 대출권수 상위 10개만 df만들기\n",
    "df_30['출판사'].value_counts()[:10]\n",
    "df_top10=df[df['출판사'].isin(df_30['출판사'].value_counts()[:10].index)]\n",
    "df_top10.head()\n",
    "len(df_top10)"
   ]
  },
  {
   "cell_type": "code",
   "execution_count": 42,
   "metadata": {},
   "outputs": [
    {
     "data": {
      "text/plain": [
       "328"
      ]
     },
     "execution_count": 42,
     "metadata": {},
     "output_type": "execute_result"
    }
   ],
   "source": [
    "#groupby\n",
    "\n",
    "df_top10_gr=df_top10.groupby(by=['출판사','발행년도']).sum()\n",
    "len(df_top10_gr)"
   ]
  },
  {
   "cell_type": "code",
   "execution_count": null,
   "metadata": {},
   "outputs": [],
   "source": [
    "# 그래프로 확인해 보기\n",
    "\n",
    "fig,ax=plt.subplots"
   ]
  },
  {
   "cell_type": "code",
   "execution_count": null,
   "metadata": {},
   "outputs": [],
   "source": []
  }
 ],
 "metadata": {
  "kernelspec": {
   "display_name": "Python 3",
   "language": "python",
   "name": "python3"
  },
  "language_info": {
   "codemirror_mode": {
    "name": "ipython",
    "version": 3
   },
   "file_extension": ".py",
   "mimetype": "text/x-python",
   "name": "python",
   "nbconvert_exporter": "python",
   "pygments_lexer": "ipython3",
   "version": "3.11.1 (tags/v3.11.1:a7a450f, Dec  6 2022, 19:58:39) [MSC v.1934 64 bit (AMD64)]"
  },
  "orig_nbformat": 4,
  "vscode": {
   "interpreter": {
    "hash": "de47f5c92c0ee6f12a59a5613ac5feff6aab19ddff207ba0b3964cced08c4ccc"
   }
  }
 },
 "nbformat": 4,
 "nbformat_minor": 2
}
